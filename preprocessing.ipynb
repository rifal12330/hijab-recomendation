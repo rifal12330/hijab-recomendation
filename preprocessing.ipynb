{
 "cells": [
  {
   "cell_type": "code",
   "execution_count": 3,
   "id": "d2b14c4b-2af3-4407-b4bf-221f2d1e9a50",
   "metadata": {
    "editable": true,
    "slideshow": {
     "slide_type": ""
    },
    "tags": []
   },
   "outputs": [
    {
     "name": "stdout",
     "output_type": "stream",
     "text": [
      "Requirement already satisfied: opencv-python in /opt/anaconda3/lib/python3.12/site-packages (4.11.0.86)\n",
      "Requirement already satisfied: numpy>=1.21.2 in /opt/anaconda3/lib/python3.12/site-packages (from opencv-python) (1.26.4)\n"
     ]
    }
   ],
   "source": [
    "!pip install opencv-python"
   ]
  },
  {
   "cell_type": "code",
   "execution_count": 5,
   "id": "e1402968-4a8c-4df7-a864-5f3a8359a5f0",
   "metadata": {},
   "outputs": [
    {
     "name": "stdout",
     "output_type": "stream",
     "text": [
      "Requirement already satisfied: pandas in /opt/anaconda3/lib/python3.12/site-packages (2.2.2)\n",
      "Requirement already satisfied: numpy in /opt/anaconda3/lib/python3.12/site-packages (1.26.4)\n",
      "Requirement already satisfied: python-dateutil>=2.8.2 in /opt/anaconda3/lib/python3.12/site-packages (from pandas) (2.9.0.post0)\n",
      "Requirement already satisfied: pytz>=2020.1 in /opt/anaconda3/lib/python3.12/site-packages (from pandas) (2024.1)\n",
      "Requirement already satisfied: tzdata>=2022.7 in /opt/anaconda3/lib/python3.12/site-packages (from pandas) (2023.3)\n",
      "Requirement already satisfied: six>=1.5 in /opt/anaconda3/lib/python3.12/site-packages (from python-dateutil>=2.8.2->pandas) (1.16.0)\n"
     ]
    }
   ],
   "source": [
    "!pip install pandas numpy"
   ]
  },
  {
   "cell_type": "code",
   "execution_count": 9,
   "id": "0b96b3f2-8838-434f-88f5-e639aff6babb",
   "metadata": {
    "editable": true,
    "slideshow": {
     "slide_type": ""
    },
    "tags": []
   },
   "outputs": [
    {
     "name": "stdout",
     "output_type": "stream",
     "text": [
      "\n",
      " Kolom yang tersedia dalam file anotasi CelebA:\n",
      "Index(['image_id', '000001.jpg,-1,1,1,-1,-1,-1,-1,-1,-1,-1,-1,1,-1,-1,-1,-1,-1,-1,1,1,-1,1,-1,-1,1,-1,-1,1,-1,-1,-1,1,1,-1,1,-1,1,-1,-1,1'], dtype='object')\n",
      "Kolom 'Pale_Skin' tidak ditemukan dalam file anotasi!\n"
     ]
    },
    {
     "name": "stderr",
     "output_type": "stream",
     "text": [
      "Premature end of JPEG file\n",
      "Premature end of JPEG file\n"
     ]
    },
    {
     "name": "stdout",
     "output_type": "stream",
     "text": [
      "\n",
      " Contoh DataFrame:\n",
      "            R           G           B   Tone\n",
      "0  251.694985  231.900075  200.387350  Light\n",
      "1  185.025803  165.225917  158.207569  Light\n",
      "2  156.688329  116.305886   89.495747  Light\n",
      "3  170.353371  118.959383   91.560520  Light\n",
      "4  232.305898  206.739753  193.077641  Light\n",
      "\n",
      " Laporan Klasifikasi:\n",
      "              precision    recall  f1-score   support\n",
      "\n",
      "       Heart       0.20      0.21      0.20       196\n",
      "       Light       0.18      0.04      0.07        46\n",
      "      Medium       0.00      0.00      0.00        10\n",
      "      Oblong       0.19      0.17      0.18       210\n",
      "        Oval       0.18      0.20      0.19       199\n",
      "       Round       0.23      0.28      0.25       195\n",
      "      Square       0.24      0.23      0.23       192\n",
      "\n",
      "    accuracy                           0.21      1048\n",
      "   macro avg       0.17      0.16      0.16      1048\n",
      "weighted avg       0.20      0.21      0.20      1048\n",
      "\n",
      "\n",
      " Model berhasil disimpan di: backend/model/skin_tone_model.pkl\n"
     ]
    }
   ],
   "source": [
    "import os\n",
    "import cv2\n",
    "import pandas as pd\n",
    "import numpy as np\n",
    "from sklearn.cluster import KMeans\n",
    "from sklearn.model_selection import train_test_split\n",
    "from sklearn.ensemble import RandomForestClassifier\n",
    "from sklearn.metrics import classification_report\n",
    "import pickle\n",
    "\n",
    "# Path dataset\n",
    "celebA_folder = \"dataset/celebA/img\"\n",
    "faceshape_folder = \"dataset/faceshape\"\n",
    "celebA_attr_file = \"dataset/celebA/list_attr_celeba.csv\"\n",
    "\n",
    "# Fungsi untuk ekstraksi warna kulit menggunakan K-Means\n",
    "def extract_skin_color(image_path, k=5):\n",
    "    image = cv2.imread(image_path)\n",
    "    \n",
    "    if image is None:\n",
    "        print(f\"Gambar tidak ditemukan: {image_path}\")\n",
    "        return [0, 0, 0]  # Mengembalikan warna default (hitam)\n",
    "\n",
    "    image = cv2.resize(image, (100, 100))\n",
    "    image = cv2.cvtColor(image, cv2.COLOR_BGR2RGB)\n",
    "    image = image.reshape(-1, 3)\n",
    "\n",
    "    kmeans = KMeans(n_clusters=k, random_state=42)\n",
    "    kmeans.fit(image)\n",
    "    dominant_color = kmeans.cluster_centers_[0]\n",
    "    return dominant_color\n",
    "\n",
    "# Ekstraksi Data dari CelebA\n",
    "celebA_image_paths = [os.path.join(celebA_folder, img) for img in os.listdir(celebA_folder) if img.lower().endswith(('.png', '.jpg', '.jpeg'))]\n",
    "\n",
    "# Membaca file anotasi CelebA\n",
    "celebA_attr = pd.read_csv(celebA_attr_file, sep=r'\\s+', skiprows=1)\n",
    "celebA_attr.reset_index(inplace=True)\n",
    "celebA_attr.rename(columns={'index': 'image_id'}, inplace=True)\n",
    "\n",
    "# Membersihkan nama kolom dari spasi atau karakter tersembunyi\n",
    "celebA_attr.columns = celebA_attr.columns.str.strip()\n",
    "\n",
    "# Memastikan kolom yang tersedia dalam file anotasi CelebA\n",
    "print(\"\\n Kolom yang tersedia dalam file anotasi CelebA:\")\n",
    "print(celebA_attr.columns)\n",
    "\n",
    "# Validasi keberadaan kolom 'Pale_Skin'\n",
    "if 'Pale_Skin' not in celebA_attr.columns:\n",
    "    print(\"Kolom 'Pale_Skin' tidak ditemukan dalam file anotasi!\")\n",
    "    # Jika kolom 'Pale_Skin' tidak ada, kita bisa membuat kolom dummy\n",
    "    celebA_attr['Pale_Skin'] = np.random.randint(0, 2, size=len(celebA_attr))  # Contoh: membuat kolom dummy\n",
    "else:\n",
    "    print(\"Kolom 'Pale_Skin' ditemukan dan siap digunakan!\")\n",
    "\n",
    "# Menambahkan padding nol pada image_id agar sesuai dengan format file gambar\n",
    "celebA_attr['image_id'] = celebA_attr['image_id'].apply(lambda x: f\"{int(x):06d}.jpg\")\n",
    "\n",
    "# Ekstraksi warna kulit dari gambar CelebA\n",
    "valid_celebA_images = celebA_attr[celebA_attr['image_id'].isin(os.listdir(celebA_folder))]\n",
    "celebA_skin_colors = [extract_skin_color(os.path.join(celebA_folder, img)) for img in valid_celebA_images['image_id']]\n",
    "\n",
    "# Membuat DataFrame untuk CelebA\n",
    "celebA_df = pd.DataFrame(celebA_skin_colors, columns=['R', 'G', 'B'])\n",
    "\n",
    "# Jika tidak ada kolom 'Pale_Skin', tentukan 'Tone' berdasarkan nilai R (merah)\n",
    "celebA_df['Tone'] = ['Light' if r > 150 else 'Medium' for r in celebA_df['R']]\n",
    "\n",
    "# Ekstraksi Data dari FaceShape\n",
    "faceshape_image_paths = []\n",
    "faceshape_labels = []\n",
    "valid_labels = ['Heart', 'Oblong', 'Oval', 'Round', 'Square']\n",
    "\n",
    "for set_type in ['training_set', 'testing_set']:\n",
    "    set_folder = os.path.join(faceshape_folder, set_type)\n",
    "    if os.path.exists(set_folder):\n",
    "        for label in os.listdir(set_folder):\n",
    "            label_folder = os.path.join(set_folder, label)\n",
    "            if os.path.isdir(label_folder) and label in valid_labels:\n",
    "                for img in os.listdir(label_folder):\n",
    "                    if img.lower().endswith(('.png', '.jpg', '.jpeg')):\n",
    "                        img_path = os.path.join(label_folder, img)\n",
    "                        faceshape_image_paths.append(img_path)\n",
    "                        faceshape_labels.append(label)\n",
    "\n",
    "# Ekstraksi warna kulit dari gambar FaceShape\n",
    "faceshape_skin_colors = [extract_skin_color(img) for img in faceshape_image_paths]\n",
    "faceshape_df = pd.DataFrame(faceshape_skin_colors, columns=['R', 'G', 'B'])\n",
    "faceshape_df['Tone'] = faceshape_labels\n",
    "\n",
    "# Menggabungkan kedua dataset\n",
    "df = pd.concat([celebA_df, faceshape_df], ignore_index=True)\n",
    "\n",
    "print(\"\\n Contoh DataFrame:\")\n",
    "print(df.head())\n",
    "\n",
    "# Validasi DataFrame sebelum pembagian dataset\n",
    "if df.empty:\n",
    "    print(\" DataFrame kosong! Tidak dapat melanjutkan pelatihan model.\")\n",
    "else:\n",
    "    # Pembagian dataset untuk pelatihan model\n",
    "    X = df[['R', 'G', 'B']]\n",
    "    y = df['Tone']\n",
    "    X_train, X_test, y_train, y_test = train_test_split(X, y, test_size=0.2, random_state=42)\n",
    "\n",
    "    # Pelatihan model Random Forest\n",
    "    model = RandomForestClassifier(random_state=42)\n",
    "    model.fit(X_train, y_train)\n",
    "\n",
    "    # Evaluasi model\n",
    "    y_pred = model.predict(X_test)\n",
    "    print(\"\\n Laporan Klasifikasi:\")\n",
    "    print(classification_report(y_test, y_pred))\n",
    "\n",
    "    # Menyimpan model dalam format .pkl\n",
    "    model_path = 'backend/model/skin_tone_model.pkl'\n",
    "    os.makedirs(os.path.dirname(model_path), exist_ok=True)\n",
    "\n",
    "    with open(model_path, 'wb') as f:\n",
    "        pickle.dump(model, f)\n",
    "\n",
    "    print(f\"\\n Model berhasil disimpan di: {model_path}\")"
   ]
  },
  {
   "cell_type": "code",
   "execution_count": null,
   "id": "f4495ef5-b0b6-4d2d-8bdd-8e53b571fc1a",
   "metadata": {},
   "outputs": [],
   "source": [
    " "
   ]
  }
 ],
 "metadata": {
  "kernelspec": {
   "display_name": "Python [conda env:base] *",
   "language": "python",
   "name": "conda-base-py"
  },
  "language_info": {
   "codemirror_mode": {
    "name": "ipython",
    "version": 3
   },
   "file_extension": ".py",
   "mimetype": "text/x-python",
   "name": "python",
   "nbconvert_exporter": "python",
   "pygments_lexer": "ipython3",
   "version": "3.12.7"
  }
 },
 "nbformat": 4,
 "nbformat_minor": 5
}
